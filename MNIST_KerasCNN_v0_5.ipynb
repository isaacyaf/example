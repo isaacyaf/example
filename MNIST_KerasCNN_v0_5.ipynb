{
  "nbformat": 4,
  "nbformat_minor": 0,
  "metadata": {
    "colab": {
      "name": "MNIST_KerasCNN_v0.5.ipynb",
      "version": "0.3.2",
      "provenance": [],
      "collapsed_sections": []
    },
    "kernelspec": {
      "name": "python3",
      "display_name": "Python 3"
    },
    "accelerator": "GPU"
  },
  "cells": [
    {
      "cell_type": "markdown",
      "metadata": {
        "id": "view-in-github",
        "colab_type": "text"
      },
      "source": [
        "[View in Colaboratory](https://colab.research.google.com/github/isaacyaf/example/blob/master/MNIST_KerasCNN_v0_5.ipynb)"
      ]
    },
    {
      "metadata": {
        "id": "DgyuCHhQzvgU",
        "colab_type": "text"
      },
      "cell_type": "markdown",
      "source": [
        "# The Fashion MNIST\n",
        "# Part 1:\n",
        "* Import the Libraries\n",
        "* Set the Parameters\n",
        "* Set the Functions\n",
        "* Show the Samples"
      ]
    },
    {
      "metadata": {
        "id": "G6sHulerWTyX",
        "colab_type": "code",
        "colab": {
          "base_uri": "https://localhost:8080/",
          "height": 68
        },
        "outputId": "7ac23bfa-e345-4551-c084-82c9e251e633"
      },
      "cell_type": "code",
      "source": [
        "import tensorflow as tf\n",
        "print (tf.__version__)\n",
        "print(tf.test.gpu_device_name())\n",
        "\n",
        "import numpy as np\n",
        "np.random.seed(1234)  # for reproducibility (with others results)\n",
        "\n",
        "from keras.datasets import mnist\n",
        "from keras.datasets import fashion_mnist\n",
        "\n",
        "from keras.models import Sequential\n",
        "from keras.layers.core import Dense, Dropout, Activation, Flatten\n",
        "from keras.layers import Conv2D, MaxPooling2D\n",
        "from keras.optimizers import RMSprop\n",
        "from keras.utils import np_utils\n",
        "from keras.models import load_model\n",
        "\n",
        "import matplotlib.pyplot as plt\n",
        "%matplotlib inline\n",
        "import random as ran\n",
        "from google.colab import files\n",
        "from PIL import Image"
      ],
      "execution_count": 1,
      "outputs": [
        {
          "output_type": "stream",
          "text": [
            "1.7.0\n",
            "/device:GPU:0\n"
          ],
          "name": "stdout"
        },
        {
          "output_type": "stream",
          "text": [
            "Using TensorFlow backend.\n"
          ],
          "name": "stderr"
        }
      ]
    },
    {
      "metadata": {
        "id": "uRTdzXAUReCP",
        "colab_type": "code",
        "colab": {
          "base_uri": "https://localhost:8080/",
          "height": 51
        },
        "outputId": "69e88523-5485-46b0-b4aa-e4afd6a7cb27"
      },
      "cell_type": "code",
      "source": [
        "batch_size = 128\n",
        "nb_classes = 10\n",
        "#the number of epochs to train the model\n",
        "nb_epoch = 10\n",
        "\n",
        "#MNIST\n",
        "#(X_train, y_train), (X_test, y_test) = mnist.load_data()\n",
        "\n",
        "#Fashion_MNIST\n",
        "#0  T-shirt/top (T恤/上衣)\n",
        "#1\tTrouser 褲子\n",
        "#2\tPullover\t帽T\n",
        "#3\tDress\t連衣裙\n",
        "#4\tCoat\t外套\n",
        "#5\tSandal\t涼鞋\n",
        "#6\tShirt\t襯衫\n",
        "#7\tSneaker\t運動鞋\n",
        "#8\tBag\t背包\n",
        "#9\tAnkle boot\t短靴\n",
        "fashion_labellist=[\n",
        "  \"T-shirt/top\",\n",
        "  \"Trouser\",\n",
        "  \"Pullover\",\n",
        "  \"Dress\",\n",
        "  \"Coat\",\n",
        "  \"Sandal\",\n",
        "  \"Shirt\",\n",
        "  \"Sneaker\",\n",
        "  \"Bag\",\n",
        "  \"Ankle boot\"\n",
        "]\n",
        "\n",
        "(X_train, y_train), (X_test, y_test) = fashion_mnist.load_data()\n",
        "\n",
        "#ormalized the image data \n",
        "X_train = X_train.reshape(X_train.shape[0], 28, 28, 1).astype('float32')  \n",
        "X_test = X_test.reshape(X_test.shape[0], 28, 28, 1).astype('float32')  \n",
        "X_train /= 255\n",
        "X_test /= 255\n",
        "\n",
        "# convert class vectors to binary class matrices\n",
        "Y_train = np_utils.to_categorical(y_train, nb_classes)\n",
        "Y_test = np_utils.to_categorical(y_test, nb_classes)\n",
        "\n",
        "print(X_train.shape[0], 'train samples')\n",
        "print(X_test.shape[0], 'test samples')"
      ],
      "execution_count": 8,
      "outputs": [
        {
          "output_type": "stream",
          "text": [
            "60000 train samples\n",
            "10000 test samples\n"
          ],
          "name": "stdout"
        }
      ]
    },
    {
      "metadata": {
        "id": "I5JKGf-qzeTX",
        "colab_type": "code",
        "colab": {}
      },
      "cell_type": "code",
      "source": [
        "def display_train_digit(num):\n",
        "    print(Y_train[num, :])\n",
        "    \n",
        "    # 28 by 28 matrix\n",
        "    image = X_train[num].reshape([28,28]) \n",
        "    \n",
        "    # Label\n",
        "    label = Y_train[num, :].argmax(axis=0)\n",
        "    \n",
        "    plt.title('Example: {0}  Label: {1}'.format(num, label))\n",
        "    plt.imshow(image, cmap=plt.get_cmap('gray_r'))\n",
        "    plt.show()\n",
        "    \n",
        "def display_train_fashion(num):\n",
        "    print(Y_train[num, :])\n",
        "\n",
        "    # 28 by 28 matrix\n",
        "    image = X_train[num].reshape([28,28]) \n",
        "    \n",
        "    # Label\n",
        "    label = fashion_labellist[int(Y_train[num, :].argmax(axis=0))]\n",
        "    \n",
        "    plt.title('Example: {0}  Label: {1}'.format(num, label))\n",
        "    plt.imshow(image, cmap=plt.get_cmap('gray_r'))\n",
        "    plt.show()\n",
        "    \n",
        "def display_comparefashion_test(num):\n",
        "    # prediction result as integer\n",
        "    our_image=X_test[num].reshape(1,28,28,1)\n",
        "    label = fashion_labellist[int(Y_test[num, :].argmax(axis=0))]\n",
        "    \n",
        "    prediction = fashion_labellist[int(model.predict_classes(our_image))]\n",
        "    plt.title('Test Sample:{0}, Label: {1}, Prediction: {2}'.\n",
        "              format(num, label, prediction))\n",
        "    plt.imshow(our_image.reshape([28,28]), cmap=plt.get_cmap('gray_r'))\n",
        "    plt.show()\n",
        "\n",
        "def display_comparewriter(our_image):\n",
        "    # prediction result as integer\n",
        "    our_image=our_image.reshape(1,28,28,1)\n",
        "    prediction = model.predict_classes(our_image)\n",
        "    plt.title('Prediction: {0}'.format(prediction))\n",
        "    plt.imshow(our_image.reshape([28,28]), cmap=plt.get_cmap('gray_r'))\n",
        "    plt.show()\n",
        "    \n",
        "def upload_files():\n",
        "  uploaded = files.upload()\n",
        "  for k, v in uploaded.items():\n",
        "    open(k, 'wb').write(v)\n",
        "  return list(uploaded.keys())"
      ],
      "execution_count": 0,
      "outputs": []
    },
    {
      "metadata": {
        "id": "I8tQ2maCyJlP",
        "colab_type": "code",
        "colab": {
          "base_uri": "https://localhost:8080/",
          "height": 857
        },
        "outputId": "2fe483a2-e805-45ef-b9b0-8710f3b2922d"
      },
      "cell_type": "code",
      "source": [
        "#Show the Samples\n",
        "display_train_fashion(ran.randint(0, X_train.shape[0]))\n",
        "display_train_fashion(ran.randint(0, X_train.shape[0]))\n",
        "display_train_fashion(ran.randint(0, X_train.shape[0]))"
      ],
      "execution_count": 4,
      "outputs": [
        {
          "output_type": "stream",
          "text": [
            "[0. 0. 0. 0. 0. 0. 0. 1. 0. 0.]\n"
          ],
          "name": "stdout"
        },
        {
          "output_type": "display_data",
          "data": {
            "image/png": "[encoded data removed]",
            "text/plain": [
              "<matplotlib.figure.Figure at 0x7fb59456df60>"
            ]
          },
          "metadata": {
            "tags": []
          }
        },
        {
          "output_type": "stream",
          "text": [
            "[0. 0. 0. 0. 1. 0. 0. 0. 0. 0.]\n"
          ],
          "name": "stdout"
        },
        {
          "output_type": "display_data",
          "data": {
            "image/png": "[encoded data removed]",
            "text/plain": [
              "<matplotlib.figure.Figure at 0x7fb5689df5f8>"
            ]
          },
          "metadata": {
            "tags": []
          }
        },
        {
          "output_type": "stream",
          "text": [
            "[0. 0. 0. 0. 0. 1. 0. 0. 0. 0.]\n"
          ],
          "name": "stdout"
        },
        {
          "output_type": "display_data",
          "data": {
            "image/png": "[encoded data removed]",
            "text/plain": [
              "<matplotlib.figure.Figure at 0x7fb5668ec390>"
            ]
          },
          "metadata": {
            "tags": []
          }
        }
      ]
    },
    {
      "metadata": {
        "id": "pBN-w0l90wPO",
        "colab_type": "text"
      },
      "cell_type": "markdown",
      "source": [
        "# Part 2:\n",
        "* Creat the Deep Learning Model\n",
        "* Model Training"
      ]
    },
    {
      "metadata": {
        "id": "QaVgsy_zRd3w",
        "colab_type": "code",
        "colab": {}
      },
      "cell_type": "code",
      "source": [
        "def creat_CNN():\n",
        "  model = Sequential()\n",
        "  # 1st CN layer\n",
        "  model.add(Conv2D(filters=32,  \n",
        "                   kernel_size=(5,5),  \n",
        "                   padding='same',  \n",
        "                   input_shape=(28,28,1),  \n",
        "                   activation='relu')) \n",
        "  # 1st Max-pooling layer\n",
        "  model.add(MaxPooling2D(pool_size=(2,2))) \n",
        "\n",
        "  # 2nd CN layer\n",
        "  model.add(Conv2D(filters=64,  \n",
        "                   kernel_size=(5,5),  \n",
        "                   padding='same',  \n",
        "                   input_shape=(28,28,1),  \n",
        "                   activation='relu')) \n",
        "  # 2nd Max-pooling layer \n",
        "  model.add(MaxPooling2D(pool_size=(2,2))) \n",
        "  # Dropout layer  \n",
        "  model.add(Dropout(0.25)) \n",
        "\n",
        "  model.add(Flatten())\n",
        "  model.add(Dense(128, activation='relu'))\n",
        "  model.add(Dropout(0.5))\n",
        "\n",
        "  #softmax layer\n",
        "  model.add(Dense(10))\n",
        "  model.add(Activation('softmax'))\n",
        "  \n",
        "  return model\n"
      ],
      "execution_count": 0,
      "outputs": []
    },
    {
      "metadata": {
        "id": "uUQFrBVG_NZM",
        "colab_type": "code",
        "colab": {
          "base_uri": "https://localhost:8080/",
          "height": 476
        },
        "outputId": "34ec047c-c86a-4157-f5ba-302e7621cf1c"
      },
      "cell_type": "code",
      "source": [
        "\n",
        "model=creat_CNN()\n",
        "model.summary()\n",
        "\n",
        "model.compile(loss='categorical_crossentropy',\n",
        "              optimizer=RMSprop(),\n",
        "              metrics=['accuracy'])"
      ],
      "execution_count": 6,
      "outputs": [
        {
          "output_type": "stream",
          "text": [
            "_________________________________________________________________\n",
            "Layer (type)                 Output Shape              Param #   \n",
            "=================================================================\n",
            "conv2d_1 (Conv2D)            (None, 28, 28, 32)        832       \n",
            "_________________________________________________________________\n",
            "max_pooling2d_1 (MaxPooling2 (None, 14, 14, 32)        0         \n",
            "_________________________________________________________________\n",
            "conv2d_2 (Conv2D)            (None, 14, 14, 64)        51264     \n",
            "_________________________________________________________________\n",
            "max_pooling2d_2 (MaxPooling2 (None, 7, 7, 64)          0         \n",
            "_________________________________________________________________\n",
            "dropout_1 (Dropout)          (None, 7, 7, 64)          0         \n",
            "_________________________________________________________________\n",
            "flatten_1 (Flatten)          (None, 3136)              0         \n",
            "_________________________________________________________________\n",
            "dense_1 (Dense)              (None, 128)               401536    \n",
            "_________________________________________________________________\n",
            "dropout_2 (Dropout)          (None, 128)               0         \n",
            "_________________________________________________________________\n",
            "dense_2 (Dense)              (None, 10)                1290      \n",
            "_________________________________________________________________\n",
            "activation_1 (Activation)    (None, 10)                0         \n",
            "=================================================================\n",
            "Total params: 454,922\n",
            "Trainable params: 454,922\n",
            "Non-trainable params: 0\n",
            "_________________________________________________________________\n"
          ],
          "name": "stdout"
        }
      ]
    },
    {
      "metadata": {
        "id": "o03nV7RXRqUo",
        "colab_type": "code",
        "colab": {
          "base_uri": "https://localhost:8080/",
          "height": 428
        },
        "outputId": "b4d9735a-51eb-4589-a973-e29ef3d510e9"
      },
      "cell_type": "code",
      "source": [
        "#Training\n",
        "\n",
        "history = model.fit(X_train, Y_train,\n",
        "                    batch_size=batch_size, epochs=nb_epoch,\n",
        "                    verbose=1, validation_data=(X_test, Y_test))\n",
        "score = model.evaluate(X_test, Y_test, verbose=0)\n",
        "print('Test score:', score[0])\n",
        "print('Test accuracy:', score[1])"
      ],
      "execution_count": 9,
      "outputs": [
        {
          "output_type": "stream",
          "text": [
            "Train on 60000 samples, validate on 10000 samples\n",
            "Epoch 1/10\n",
            "60000/60000 [==============================] - 10s 170us/step - loss: 0.5671 - acc: 0.7971 - val_loss: 0.3543 - val_acc: 0.8706\n",
            "Epoch 2/10\n",
            "60000/60000 [==============================] - 9s 151us/step - loss: 0.3525 - acc: 0.8748 - val_loss: 0.3308 - val_acc: 0.8824\n",
            "Epoch 3/10\n",
            "29312/60000 [=============>................] - ETA: 4s - loss: 0.3075 - acc: 0.8907"
          ],
          "name": "stdout"
        },
        {
          "output_type": "stream",
          "text": [
            "60000/60000 [==============================] - 9s 149us/step - loss: 0.3040 - acc: 0.8923 - val_loss: 0.2720 - val_acc: 0.9012\n",
            "Epoch 4/10\n",
            "60000/60000 [==============================] - 9s 147us/step - loss: 0.2762 - acc: 0.9022 - val_loss: 0.2713 - val_acc: 0.8978\n",
            "Epoch 5/10\n",
            "60000/60000 [==============================] - 9s 147us/step - loss: 0.2573 - acc: 0.9086 - val_loss: 0.2771 - val_acc: 0.9067\n",
            "Epoch 6/10\n",
            " 1280/60000 [..............................] - ETA: 8s - loss: 0.2534 - acc: 0.9094"
          ],
          "name": "stdout"
        },
        {
          "output_type": "stream",
          "text": [
            "60000/60000 [==============================] - 9s 148us/step - loss: 0.2476 - acc: 0.9140 - val_loss: 0.2550 - val_acc: 0.9068\n",
            "Epoch 7/10\n",
            "60000/60000 [==============================] - 9s 147us/step - loss: 0.2363 - acc: 0.9160 - val_loss: 0.2618 - val_acc: 0.9005\n",
            "Epoch 8/10\n",
            "56448/60000 [===========================>..] - ETA: 0s - loss: 0.2297 - acc: 0.9199"
          ],
          "name": "stdout"
        },
        {
          "output_type": "stream",
          "text": [
            "60000/60000 [==============================] - 9s 147us/step - loss: 0.2304 - acc: 0.9194 - val_loss: 0.2380 - val_acc: 0.9125\n",
            "Epoch 9/10\n",
            "60000/60000 [==============================] - 9s 147us/step - loss: 0.2224 - acc: 0.9217 - val_loss: 0.2743 - val_acc: 0.9119\n",
            "Epoch 10/10\n",
            "60000/60000 [==============================] - 9s 148us/step - loss: 0.2193 - acc: 0.9245 - val_loss: 0.2596 - val_acc: 0.9134\n",
            "Test score: 0.259628196837008\n",
            "Test accuracy: 0.9134\n"
          ],
          "name": "stdout"
        }
      ]
    },
    {
      "metadata": {
        "id": "OrS-zqmvy0HM",
        "colab_type": "text"
      },
      "cell_type": "markdown",
      "source": [
        "# Part 3:\n",
        "* Save & Load your Model\n",
        "* Verify your Model\n"
      ]
    },
    {
      "metadata": {
        "id": "Wt7_1FfsRqO3",
        "colab_type": "code",
        "colab": {
          "base_uri": "https://localhost:8080/",
          "height": 34
        },
        "outputId": "bbf24ced-f3fd-4366-861f-d2f41b418327"
      },
      "cell_type": "code",
      "source": [
        "#Save the Model\n",
        "model.save('my_FM_CNNmodel.h5')\n",
        "\n",
        "#Load the Model\n",
        "model = load_model('my_FM_CNNmodel.h5')"
      ],
      "execution_count": 12,
      "outputs": [
        {
          "output_type": "stream",
          "text": [
            "datalab  my_CNNmodel.h5  my_FM_CNNmodel.h5\r\n"
          ],
          "name": "stdout"
        }
      ]
    },
    {
      "metadata": {
        "id": "2fXdUPo1YwhS",
        "colab_type": "code",
        "colab": {}
      },
      "cell_type": "code",
      "source": [
        "files.download(\"my_FM_CNNmodel.h5\") "
      ],
      "execution_count": 0,
      "outputs": []
    },
    {
      "metadata": {
        "id": "yAl5TLEhbkcK",
        "colab_type": "code",
        "colab": {
          "base_uri": "https://localhost:8080/",
          "height": 280
        },
        "outputId": "689fad58-feb4-4f7f-ecbf-0554ef10c792"
      },
      "cell_type": "code",
      "source": [
        "#Verify your model\n",
        "\n",
        "ranpick=ran.randint(0, X_test.shape[0])\n",
        "display_comparefashion_test(ranpick)"
      ],
      "execution_count": 13,
      "outputs": [
        {
          "output_type": "display_data",
          "data": {
            "image/png": "[encoded data removed]",
            "text/plain": [
              "<matplotlib.figure.Figure at 0x7fb557e54cc0>"
            ]
          },
          "metadata": {
            "tags": []
          }
        }
      ]
    },
    {
      "metadata": {
        "id": "yjAF7tShwpTW",
        "colab_type": "text"
      },
      "cell_type": "markdown",
      "source": [
        "# The MNIST\n",
        "# Part 4:\n",
        "* Load the MNIST Data\n",
        "* Model Training\n",
        "* Write & Upload your MNIST Data\n",
        "* Verify & Show your MNIST Data\n",
        "\n",
        "\n",
        "The Test Data: ![Sample](https://imgur.com/entWh6E.png)\n"
      ]
    },
    {
      "metadata": {
        "id": "zWrrdTa-3r4e",
        "colab_type": "code",
        "colab": {
          "base_uri": "https://localhost:8080/",
          "height": 85
        },
        "outputId": "d478ce33-692b-4851-b56c-d8aceef02739"
      },
      "cell_type": "code",
      "source": [
        "#MNIST\n",
        "(X_train, y_train), (X_test, y_test) = mnist.load_data()\n",
        "\n",
        "#ormalized the image data \n",
        "X_train = X_train.reshape(X_train.shape[0], 28, 28, 1).astype('float32')  \n",
        "X_test = X_test.reshape(X_test.shape[0], 28, 28, 1).astype('float32')  \n",
        "X_train /= 255\n",
        "X_test /= 255\n",
        "\n",
        "\n",
        "# convert class vectors to binary class matrices\n",
        "Y_train = np_utils.to_categorical(y_train, nb_classes)\n",
        "Y_test = np_utils.to_categorical(y_test, nb_classes)\n",
        "\n",
        "\n",
        "print(X_train.shape[0], 'train samples')\n",
        "print(X_test.shape[0], 'test samples')"
      ],
      "execution_count": 14,
      "outputs": [
        {
          "output_type": "stream",
          "text": [
            "Downloading data from https://s3.amazonaws.com/img-datasets/mnist.npz\n",
            "11493376/11490434 [==============================] - 1s 0us/step\n",
            "60000 train samples\n",
            "10000 test samples\n"
          ],
          "name": "stdout"
        }
      ]
    },
    {
      "metadata": {
        "id": "ZD67vLAM3_Ri",
        "colab_type": "code",
        "colab": {}
      },
      "cell_type": "code",
      "source": [
        "batch_size = 64\n",
        "nb_classes = 10\n",
        "#the number of epochs to train the model\n",
        "nb_epoch = 10\n"
      ],
      "execution_count": 0,
      "outputs": []
    },
    {
      "metadata": {
        "id": "Z5z9Z2GY-qqW",
        "colab_type": "code",
        "colab": {
          "base_uri": "https://localhost:8080/",
          "height": 476
        },
        "outputId": "acc76e2f-7bfd-4f67-d2d7-e2fb86178d4d"
      },
      "cell_type": "code",
      "source": [
        "model=creat_CNN()\n",
        "model.summary()\n",
        "model.compile(loss='categorical_crossentropy',\n",
        "              optimizer=RMSprop(),\n",
        "              metrics=['accuracy'])"
      ],
      "execution_count": 16,
      "outputs": [
        {
          "output_type": "stream",
          "text": [
            "_________________________________________________________________\n",
            "Layer (type)                 Output Shape              Param #   \n",
            "=================================================================\n",
            "conv2d_3 (Conv2D)            (None, 28, 28, 32)        832       \n",
            "_________________________________________________________________\n",
            "max_pooling2d_3 (MaxPooling2 (None, 14, 14, 32)        0         \n",
            "_________________________________________________________________\n",
            "conv2d_4 (Conv2D)            (None, 14, 14, 64)        51264     \n",
            "_________________________________________________________________\n",
            "max_pooling2d_4 (MaxPooling2 (None, 7, 7, 64)          0         \n",
            "_________________________________________________________________\n",
            "dropout_3 (Dropout)          (None, 7, 7, 64)          0         \n",
            "_________________________________________________________________\n",
            "flatten_2 (Flatten)          (None, 3136)              0         \n",
            "_________________________________________________________________\n",
            "dense_3 (Dense)              (None, 128)               401536    \n",
            "_________________________________________________________________\n",
            "dropout_4 (Dropout)          (None, 128)               0         \n",
            "_________________________________________________________________\n",
            "dense_4 (Dense)              (None, 10)                1290      \n",
            "_________________________________________________________________\n",
            "activation_2 (Activation)    (None, 10)                0         \n",
            "=================================================================\n",
            "Total params: 454,922\n",
            "Trainable params: 454,922\n",
            "Non-trainable params: 0\n",
            "_________________________________________________________________\n"
          ],
          "name": "stdout"
        }
      ]
    },
    {
      "metadata": {
        "id": "fa0BSkzU6v1m",
        "colab_type": "code",
        "colab": {
          "base_uri": "https://localhost:8080/",
          "height": 428
        },
        "outputId": "a0f3c29d-c8ba-468c-f3f3-59872807eaa8"
      },
      "cell_type": "code",
      "source": [
        "#Training\n",
        "history = model.fit(X_train, Y_train,\n",
        "                    batch_size=batch_size, epochs=nb_epoch,\n",
        "                    verbose=1, validation_data=(X_test, Y_test))\n",
        "score = model.evaluate(X_test, Y_test, verbose=0)\n",
        "print('Test score:', score[0])\n",
        "print('Test accuracy:', score[1])"
      ],
      "execution_count": 17,
      "outputs": [
        {
          "output_type": "stream",
          "text": [
            "Train on 60000 samples, validate on 10000 samples\n",
            "Epoch 1/10\n",
            "60000/60000 [==============================] - 16s 262us/step - loss: 0.1891 - acc: 0.9416 - val_loss: 0.0500 - val_acc: 0.9826\n",
            "Epoch 2/10\n",
            "55488/60000 [==========================>...] - ETA: 1s - loss: 0.0687 - acc: 0.9802"
          ],
          "name": "stdout"
        },
        {
          "output_type": "stream",
          "text": [
            "60000/60000 [==============================] - 16s 260us/step - loss: 0.0689 - acc: 0.9802 - val_loss: 0.0327 - val_acc: 0.9902\n",
            "Epoch 3/10\n",
            "60000/60000 [==============================] - 15s 258us/step - loss: 0.0525 - acc: 0.9849 - val_loss: 0.0409 - val_acc: 0.9874\n",
            "Epoch 4/10\n",
            "29568/60000 [=============>................] - ETA: 7s - loss: 0.0443 - acc: 0.9881"
          ],
          "name": "stdout"
        },
        {
          "output_type": "stream",
          "text": [
            "60000/60000 [==============================] - 15s 257us/step - loss: 0.0473 - acc: 0.9868 - val_loss: 0.0290 - val_acc: 0.9905\n",
            "Epoch 5/10\n",
            "60000/60000 [==============================] - 15s 257us/step - loss: 0.0458 - acc: 0.9874 - val_loss: 0.0353 - val_acc: 0.9906\n",
            "Epoch 6/10\n",
            "23296/60000 [==========>...................] - ETA: 8s - loss: 0.0433 - acc: 0.9877"
          ],
          "name": "stdout"
        },
        {
          "output_type": "stream",
          "text": [
            "60000/60000 [==============================] - 15s 257us/step - loss: 0.0475 - acc: 0.9866 - val_loss: 0.0294 - val_acc: 0.9922\n",
            "Epoch 7/10\n",
            "60000/60000 [==============================] - 15s 258us/step - loss: 0.0486 - acc: 0.9868 - val_loss: 0.0727 - val_acc: 0.9875\n",
            "Epoch 8/10\n",
            "21952/60000 [=========>....................] - ETA: 9s - loss: 0.0515 - acc: 0.9866"
          ],
          "name": "stdout"
        },
        {
          "output_type": "stream",
          "text": [
            "60000/60000 [==============================] - 15s 258us/step - loss: 0.0519 - acc: 0.9864 - val_loss: 0.0309 - val_acc: 0.9917\n",
            "Epoch 9/10\n",
            "60000/60000 [==============================] - 16s 258us/step - loss: 0.0515 - acc: 0.9859 - val_loss: 0.0326 - val_acc: 0.9913\n",
            "Epoch 10/10\n",
            "20672/60000 [=========>....................] - ETA: 9s - loss: 0.0504 - acc: 0.9866"
          ],
          "name": "stdout"
        },
        {
          "output_type": "stream",
          "text": [
            "60000/60000 [==============================] - 15s 258us/step - loss: 0.0540 - acc: 0.9867 - val_loss: 0.0340 - val_acc: 0.9914\n",
            "Test score: 0.03398095806657657\n",
            "Test accuracy: 0.9914\n"
          ],
          "name": "stdout"
        }
      ]
    },
    {
      "metadata": {
        "id": "-im3w5gXRdZx",
        "colab_type": "code",
        "colab": {
          "resources": {
            "http://localhost:8080/nbextensions/google.colab/files.js": {
              "data": "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",
              "ok": true,
              "headers": [
                [
                  "content-type",
                  "application/javascript"
                ]
              ],
              "status": 200,
              "status_text": "OK"
            }
          },
          "base_uri": "https://localhost:8080/",
          "height": 93
        },
        "outputId": "a4a452fc-a93b-428d-d065-d809dec17e68"
      },
      "cell_type": "code",
      "source": [
        "#Upload your data\n",
        "upload_files()"
      ],
      "execution_count": 28,
      "outputs": [
        {
          "output_type": "display_data",
          "data": {
            "text/html": [
              "\n",
              "     <input type=\"file\" id=\"files-d46b9a49-feac-4c24-b6fb-54019c9e4e66\" name=\"files[]\" multiple disabled />\n",
              "     <output id=\"result-d46b9a49-feac-4c24-b6fb-54019c9e4e66\">\n",
              "      Upload widget is only available when the cell has been executed in the\n",
              "      current browser session. Please rerun this cell to enable.\n",
              "      </output>\n",
              "      <script src=\"/nbextensions/google.colab/files.js\"></script> "
            ],
            "text/plain": [
              "<IPython.core.display.HTML object>"
            ]
          },
          "metadata": {
            "tags": []
          }
        },
        {
          "output_type": "stream",
          "text": [
            "Saving test.bmp to test (1).bmp\n"
          ],
          "name": "stdout"
        },
        {
          "output_type": "execute_result",
          "data": {
            "text/plain": [
              "['test.bmp']"
            ]
          },
          "metadata": {
            "tags": []
          },
          "execution_count": 28
        }
      ]
    },
    {
      "metadata": {
        "id": "rjXF1cznTPQr",
        "colab_type": "code",
        "colab": {}
      },
      "cell_type": "code",
      "source": [
        "#Open the data you wrote\n",
        "im = Image.open(\"test.bmp\")\n",
        "\n",
        "#normalized\n",
        "im = im.convert('1')\n",
        "writetmp=np.array(im.getdata())\n",
        "writetmp=(255-writetmp)/255\n",
        "\n"
      ],
      "execution_count": 0,
      "outputs": []
    },
    {
      "metadata": {
        "id": "Nfa5rF9RL4VF",
        "colab_type": "code",
        "colab": {
          "base_uri": "https://localhost:8080/",
          "height": 280
        },
        "outputId": "66d97e0c-9480-49fd-d5e3-00a9f9529715"
      },
      "cell_type": "code",
      "source": [
        "display_comparewriter(writetmp)"
      ],
      "execution_count": 95,
      "outputs": [
        {
          "output_type": "display_data",
          "data": {
            "image/png": "[encoded data removed]",
            "text/plain": [
              "<matplotlib.figure.Figure at 0x7fa4044b71d0>"
            ]
          },
          "metadata": {
            "tags": []
          }
        }
      ]
    },
    {
      "metadata": {
        "id": "TN81DEp8CNHo",
        "colab_type": "code",
        "colab": {}
      },
      "cell_type": "code",
      "source": [
        ""
      ],
      "execution_count": 0,
      "outputs": []
    }
  ]
}