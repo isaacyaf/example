{
  "nbformat": 4,
  "nbformat_minor": 0,
  "metadata": {
    "colab": {
      "name": "Keras-Custom_loss_function[AND_ GATE and MNIST].ipynb",
      "version": "0.3.2",
      "provenance": [],
      "collapsed_sections": [],
      "include_colab_link": true
    },
    "kernelspec": {
      "name": "python3",
      "display_name": "Python 3"
    },
    "accelerator": "GPU"
  },
  "cells": [
    {
      "cell_type": "markdown",
      "metadata": {
        "id": "view-in-github",
        "colab_type": "text"
      },
      "source": [
        "[View in Colaboratory](https://colab.research.google.com/github/isaacyaf/example/blob/master/Keras_Custom_loss_function[AND__GATE_and_MNIST].ipynb)"
      ]
    },
    {
      "metadata": {
        "id": "b4SYanSBd1xt",
        "colab_type": "text"
      },
      "cell_type": "markdown",
      "source": [
        "自定義 loss\n",
        "#AND GATE"
      ]
    },
    {
      "metadata": {
        "id": "vkJsWZ8cET5z",
        "colab_type": "code",
        "colab": {
          "base_uri": "https://localhost:8080/",
          "height": 70
        },
        "outputId": "cf791551-181c-4a81-a0e9-eb4c038b15bf"
      },
      "cell_type": "code",
      "source": [
        "import tensorflow as tf\n",
        "import numpy as np\n",
        "from numpy import array\n",
        "\n",
        "from keras.models import Sequential\n",
        "from keras.layers.core import Dense, Activation\n",
        "from keras.optimizers import RMSprop, SGD\n",
        "from IPython.display import clear_output\n",
        "\n",
        "\n",
        "#GATE=> 0: AND GATE, 1: OR GATE\n",
        "gate_type=0\n",
        "\n",
        "#input_1, input_2, bias\n",
        "training_set_inputs = array([[0, 0], [1, 1], [1, 0], [0, 1]])\n",
        "if gate_type == 0: \n",
        "    #AND GATE\n",
        "    training_set_outputs = array([[0, 1, 0, 0]]).T\n",
        "    print(\"AND Gate Simulation:\\n\")\n",
        "else:\n",
        "    #OR GATE\n",
        "    training_set_outputs = array([[0, 1, 1, 1]]).T\n",
        "    print(\"OR Gate Simulation:\\n\")\n",
        "\n",
        "    \n",
        "train_tmp = training_set_inputs\n",
        "train_DLy = training_set_outputs\n",
        "inputdims = len(train_tmp[0])\n",
        "batch_size = 4\n",
        "nb_classes = 1\n",
        "nb_epoch = 500\n",
        "learning_rate=0.5\n"
      ],
      "execution_count": 2,
      "outputs": [
        {
          "output_type": "stream",
          "text": [
            "AND Gate Simulation:\n",
            "\n"
          ],
          "name": "stdout"
        },
        {
          "output_type": "stream",
          "text": [
            "Using TensorFlow backend.\n"
          ],
          "name": "stderr"
        }
      ]
    },
    {
      "metadata": {
        "id": "_u119fTF18Sv",
        "colab_type": "code",
        "colab": {}
      },
      "cell_type": "code",
      "source": [
        "#=========== Custom loss function =================\n",
        "#ref the git from Keras & TF\n",
        "\n",
        "## The mean_absolute_percentage_error\n",
        "the_epsilon =1e-7\n",
        "\n",
        "def mean(x, axis=None, keepdims=False):\n",
        "    if x.dtype.base_dtype == tf.bool:\n",
        "        x = tf.cast(x, floatx())\n",
        "    return tf.reduce_mean(x, axis, keepdims)\n",
        "\n",
        "def clip(x, min_value, max_value):\n",
        "    \"\"\"Element-wise value clipping.\n",
        "    # Arguments\n",
        "        x: Tensor or variable.\n",
        "        min_value: Python float or integer.\n",
        "        max_value: Python float or integer.\n",
        "    # Returns\n",
        "        A tensor.\n",
        "    \"\"\"\n",
        "    if max_value is not None and max_value < min_value:\n",
        "        max_value = min_value\n",
        "    if max_value is None:\n",
        "        max_value = np.inf\n",
        "    min_value = tf.convert_to_tensor(min_value, dtype=x.dtype.base_dtype)\n",
        "    max_value = tf.convert_to_tensor(max_value, dtype=x.dtype.base_dtype)\n",
        "    return tf.clip_by_value(x, min_value, max_value)\n",
        "\n",
        "def my_mean_absolute_percentage_error(y_true, y_pred):\n",
        "  diff = tf.abs((y_true - y_pred) / clip(tf.abs(y_true), the_epsilon, None))\n",
        "  return 100. * mean(diff, axis=-1)\n",
        "\n",
        "\n",
        "\n",
        "## The mean_squared_error\n",
        "def my_mean_squared_error(y_true, y_pred):\n",
        "    return mean(tf.square(y_pred - y_true), axis=-1)\n",
        "\n",
        "\n"
      ],
      "execution_count": 0,
      "outputs": []
    },
    {
      "metadata": {
        "id": "Kaerrc362FP6",
        "colab_type": "code",
        "colab": {
          "base_uri": "https://localhost:8080/",
          "height": 105
        },
        "outputId": "eb77470b-27f8-45a0-91bb-e085ba4d4fef"
      },
      "cell_type": "code",
      "source": [
        "#================ Build your model ========================\n",
        "model = Sequential()\n",
        "model.add(Dense(1, input_dim=inputdims, activation='sigmoid', bias_initializer='random_uniform'))\n",
        "model.summary()\n",
        "#model.compile(loss='mean_squared_error',\n",
        "model.compile(loss=my_mean_squared_error,\n",
        "              optimizer=SGD(lr=learning_rate),\n",
        "              metrics=['accuracy'])\n",
        "#============================================================\n",
        "\n",
        "\n",
        "#Learning\n",
        "history = model.fit(train_tmp, \n",
        "                    train_DLy,\n",
        "                    batch_size=batch_size, \n",
        "                    epochs=nb_epoch,\n",
        "                    verbose=2)\n",
        "\n",
        "clear_output()\n",
        "\n",
        "print(\"Results after training:\")\n",
        "for input_tmp, p_tmp in zip(train_tmp, model.predict(train_tmp)):\n",
        "  print(\"\\tGate inputs: {0}, {1} \\t Gate output: {2}\".format(\n",
        "      input_tmp[0], input_tmp[1], p_tmp[0]))"
      ],
      "execution_count": 5,
      "outputs": [
        {
          "output_type": "stream",
          "text": [
            "Results after training:\n",
            "\tGate inputs: 0, 0 \t Gate output: 0.011379300616681576\n",
            "\tGate inputs: 1, 1 \t Gate output: 0.7907288670539856\n",
            "\tGate inputs: 1, 0 \t Gate output: 0.17260172963142395\n",
            "\tGate inputs: 0, 1 \t Gate output: 0.17251726984977722\n"
          ],
          "name": "stdout"
        }
      ]
    },
    {
      "metadata": {
        "id": "I3Ik4D5Z2PO_",
        "colab_type": "text"
      },
      "cell_type": "markdown",
      "source": [
        "# MNIST\n"
      ]
    },
    {
      "metadata": {
        "id": "m2Gz2YiixJfK",
        "colab_type": "code",
        "colab": {
          "base_uri": "https://localhost:8080/",
          "height": 52
        },
        "outputId": "34d79bf1-2094-479e-9d11-e8a7e9a1c6e1"
      },
      "cell_type": "code",
      "source": [
        "import tensorflow as tf\n",
        "print (tf.__version__)\n",
        "print(tf.test.gpu_device_name())\n",
        "\n",
        "import numpy as np\n",
        "np.random.seed(1234)  # for reproducibility (with others results)\n",
        "\n",
        "from keras.datasets import mnist\n",
        "from keras.datasets import fashion_mnist\n",
        "\n",
        "from keras.models import Sequential\n",
        "from keras.layers.core import Dense, Dropout, Activation, Flatten\n",
        "from keras.layers import Conv2D, MaxPooling2D\n",
        "from keras.optimizers import RMSprop\n",
        "from keras.utils import np_utils\n",
        "from keras.models import load_model\n",
        "\n",
        "import matplotlib.pyplot as plt\n",
        "%matplotlib inline\n",
        "import random as ran\n",
        "from google.colab import files\n",
        "from PIL import Image"
      ],
      "execution_count": 6,
      "outputs": [
        {
          "output_type": "stream",
          "text": [
            "1.10.0\n",
            "/device:GPU:0\n"
          ],
          "name": "stdout"
        }
      ]
    },
    {
      "metadata": {
        "id": "XOYVb7N6xTL4",
        "colab_type": "code",
        "colab": {}
      },
      "cell_type": "code",
      "source": [
        "def creat_CNN():\n",
        "  model = Sequential()\n",
        "  # 1st CN layer\n",
        "  model.add(Conv2D(filters=32,  \n",
        "                   kernel_size=(5,5),  \n",
        "                   padding='same',  \n",
        "                   input_shape=(28,28,1),  \n",
        "                   activation='relu')) \n",
        "  # 1st Max-pooling layer\n",
        "  model.add(MaxPooling2D(pool_size=(2,2))) \n",
        "\n",
        "  # 2nd CN layer\n",
        "  model.add(Conv2D(filters=64,  \n",
        "                   kernel_size=(5,5),  \n",
        "                   padding='same',  \n",
        "                   activation='relu')) \n",
        "  # 2nd Max-pooling layer \n",
        "  model.add(MaxPooling2D(pool_size=(2,2))) \n",
        "  # Dropout layer  \n",
        "  model.add(Dropout(0.25)) \n",
        "\n",
        "  model.add(Flatten())\n",
        "  model.add(Dense(128, activation='relu'))\n",
        "  model.add(Dropout(0.5))\n",
        "\n",
        "  #softmax layer\n",
        "  model.add(Dense(10))\n",
        "  model.add(Activation('softmax'))\n",
        "  \n",
        "  return model"
      ],
      "execution_count": 0,
      "outputs": []
    },
    {
      "metadata": {
        "id": "pDwF09OZxYw7",
        "colab_type": "code",
        "colab": {
          "base_uri": "https://localhost:8080/",
          "height": 87
        },
        "outputId": "8bd1034d-0767-49ed-fd5e-37fd8d70c276"
      },
      "cell_type": "code",
      "source": [
        "batch_size = 64\n",
        "nb_classes = 10\n",
        "#the number of epochs to train the model\n",
        "nb_epoch = 10\n",
        "\n",
        "\n",
        "#MNIST\n",
        "(X_train, y_train), (X_test, y_test) = mnist.load_data()\n",
        "\n",
        "#ormalized the image data \n",
        "X_train = X_train.reshape(X_train.shape[0], 28, 28, 1).astype('float32')  \n",
        "X_test = X_test.reshape(X_test.shape[0], 28, 28, 1).astype('float32')  \n",
        "X_train /= 255\n",
        "X_test /= 255\n",
        "\n",
        "\n",
        "# convert class vectors to binary class matrices\n",
        "Y_train = np_utils.to_categorical(y_train, nb_classes)\n",
        "Y_test = np_utils.to_categorical(y_test, nb_classes)\n",
        "\n",
        "\n",
        "print(X_train.shape[0], 'train samples')\n",
        "print(X_test.shape[0], 'test samples')\n"
      ],
      "execution_count": 8,
      "outputs": [
        {
          "output_type": "stream",
          "text": [
            "Downloading data from https://s3.amazonaws.com/img-datasets/mnist.npz\n",
            "11493376/11490434 [==============================] - 1s 0us/step\n",
            "60000 train samples\n",
            "10000 test samples\n"
          ],
          "name": "stdout"
        }
      ]
    },
    {
      "metadata": {
        "id": "6adDlKUh0nsd",
        "colab_type": "code",
        "colab": {
          "base_uri": "https://localhost:8080/",
          "height": 490
        },
        "outputId": "5b715ce8-f3ef-46b2-b83f-ae2180521e9d"
      },
      "cell_type": "code",
      "source": [
        "model=creat_CNN()\n",
        "model.summary()\n",
        "model.compile(loss= my_mean_absolute_percentage_error,\n",
        "              optimizer=RMSprop(),\n",
        "              metrics=['accuracy'])"
      ],
      "execution_count": 9,
      "outputs": [
        {
          "output_type": "stream",
          "text": [
            "_________________________________________________________________\n",
            "Layer (type)                 Output Shape              Param #   \n",
            "=================================================================\n",
            "conv2d_1 (Conv2D)            (None, 28, 28, 32)        832       \n",
            "_________________________________________________________________\n",
            "max_pooling2d_1 (MaxPooling2 (None, 14, 14, 32)        0         \n",
            "_________________________________________________________________\n",
            "conv2d_2 (Conv2D)            (None, 14, 14, 64)        51264     \n",
            "_________________________________________________________________\n",
            "max_pooling2d_2 (MaxPooling2 (None, 7, 7, 64)          0         \n",
            "_________________________________________________________________\n",
            "dropout_1 (Dropout)          (None, 7, 7, 64)          0         \n",
            "_________________________________________________________________\n",
            "flatten_1 (Flatten)          (None, 3136)              0         \n",
            "_________________________________________________________________\n",
            "dense_3 (Dense)              (None, 128)               401536    \n",
            "_________________________________________________________________\n",
            "dropout_2 (Dropout)          (None, 128)               0         \n",
            "_________________________________________________________________\n",
            "dense_4 (Dense)              (None, 10)                1290      \n",
            "_________________________________________________________________\n",
            "activation_1 (Activation)    (None, 10)                0         \n",
            "=================================================================\n",
            "Total params: 454,922\n",
            "Trainable params: 454,922\n",
            "Non-trainable params: 0\n",
            "_________________________________________________________________\n"
          ],
          "name": "stdout"
        }
      ]
    },
    {
      "metadata": {
        "id": "mhUOGxrV0k1p",
        "colab_type": "code",
        "colab": {
          "base_uri": "https://localhost:8080/",
          "height": 420
        },
        "outputId": "845397a2-7ddc-49bb-c7ae-00027b39f668"
      },
      "cell_type": "code",
      "source": [
        "#Training\n",
        "history = model.fit(X_train, Y_train,\n",
        "                    batch_size=batch_size, epochs=nb_epoch,\n",
        "                    verbose=1, validation_data=(X_test, Y_test))\n",
        "score = model.evaluate(X_test, Y_test, verbose=0)\n",
        "print('Test score:', score[0])\n",
        "print('Test accuracy:', score[1])"
      ],
      "execution_count": 10,
      "outputs": [
        {
          "output_type": "stream",
          "text": [
            "Train on 60000 samples, validate on 10000 samples\n",
            "Epoch 1/10\n",
            "60000/60000 [==============================] - 16s 265us/step - loss: 8911695.4332 - acc: 0.9177 - val_loss: 2278419.3999 - val_acc: 0.9785\n",
            "Epoch 2/10\n",
            "60000/60000 [==============================] - 15s 247us/step - loss: 3761335.4632 - acc: 0.9638 - val_loss: 2281113.8707 - val_acc: 0.9772\n",
            "Epoch 3/10\n",
            "60000/60000 [==============================] - 14s 239us/step - loss: 2988033.9295 - acc: 0.9708 - val_loss: 1646939.2181 - val_acc: 0.9834\n",
            "Epoch 4/10\n",
            "60000/60000 [==============================] - 14s 237us/step - loss: 2535882.9761 - acc: 0.9751 - val_loss: 1477730.6418 - val_acc: 0.9851\n",
            "Epoch 5/10\n",
            "60000/60000 [==============================] - 14s 234us/step - loss: 2270268.1362 - acc: 0.9777 - val_loss: 1334297.1791 - val_acc: 0.9868\n",
            "Epoch 6/10\n",
            "60000/60000 [==============================] - 14s 233us/step - loss: 1965326.8363 - acc: 0.9808 - val_loss: 1129831.3459 - val_acc: 0.9887\n",
            "Epoch 7/10\n",
            "60000/60000 [==============================] - 14s 237us/step - loss: 1977849.7836 - acc: 0.9807 - val_loss: 1070866.6014 - val_acc: 0.9895\n",
            "Epoch 8/10\n",
            "60000/60000 [==============================] - 14s 236us/step - loss: 1763649.3725 - acc: 0.9826 - val_loss: 1229371.7409 - val_acc: 0.9880\n",
            "Epoch 9/10\n",
            "60000/60000 [==============================] - 14s 226us/step - loss: 1674781.1255 - acc: 0.9836 - val_loss: 962575.7755 - val_acc: 0.9905\n",
            "Epoch 10/10\n",
            "60000/60000 [==============================] - 14s 227us/step - loss: 1633078.4052 - acc: 0.9838 - val_loss: 1039499.5213 - val_acc: 0.9897\n",
            "Test score: 1039499.5237093313\n",
            "Test accuracy: 0.9897\n"
          ],
          "name": "stdout"
        }
      ]
    },
    {
      "metadata": {
        "id": "VIbMHGc5xiYw",
        "colab_type": "code",
        "colab": {}
      },
      "cell_type": "code",
      "source": [
        "def plot_train_history(history, train_metrics, val_metrics):\n",
        "    plt.plot(history.history.get(train_metrics),'-o')\n",
        "    plt.plot(history.history.get(val_metrics),'-o')\n",
        "    plt.ylabel(train_metrics)\n",
        "    plt.xlabel('Epochs')\n",
        "    plt.legend(['train', 'validation'])\n",
        "    \n",
        "def display_comparewriter(num):\n",
        "    # prediction result as integer\n",
        "    our_image=X_test[num].reshape(1,28,28,1)\n",
        "    prediction = model.predict_classes(our_image)\n",
        "    plt.title('Prediction: {0}'.format(prediction))\n",
        "    plt.imshow(our_image.reshape([28,28]), cmap=plt.get_cmap('gray_r'))\n",
        "    plt.show()"
      ],
      "execution_count": 0,
      "outputs": []
    },
    {
      "metadata": {
        "id": "i8N0Rvxd4MKZ",
        "colab_type": "code",
        "colab": {
          "base_uri": "https://localhost:8080/",
          "height": 290
        },
        "outputId": "824a6089-7649-4462-a002-74da32a1f1c2"
      },
      "cell_type": "code",
      "source": [
        "plt.figure(figsize=(12,4))\n",
        "plt.subplot(1,2,1)\n",
        "plot_train_history(history, 'loss','val_loss')\n",
        "plt.subplot(1,2,2)\n",
        "plot_train_history(history, 'acc','val_acc')"
      ],
      "execution_count": 16,
      "outputs": [
        {
          "output_type": "display_data",
          "data": {
            "image/png": "[encoded data removed]",
            "text/plain": [
              "<matplotlib.figure.Figure at 0x7f8bbcbfd278>"
            ]
          },
          "metadata": {
            "tags": []
          }
        }
      ]
    },
    {
      "metadata": {
        "id": "i02AckEO4QJZ",
        "colab_type": "code",
        "colab": {
          "base_uri": "https://localhost:8080/",
          "height": 280
        },
        "outputId": "c403358d-401b-44d2-b70d-dcfdc6c4661f"
      },
      "cell_type": "code",
      "source": [
        "ranpick=ran.randint(0, X_test.shape[0])\n",
        "display_comparewriter(ranpick)"
      ],
      "execution_count": 17,
      "outputs": [
        {
          "output_type": "display_data",
          "data": {
            "image/png": "[encoded data removed]",
            "text/plain": [
              "<matplotlib.figure.Figure at 0x7f8bac7b0f28>"
            ]
          },
          "metadata": {
            "tags": []
          }
        }
      ]
    }
  ]
}