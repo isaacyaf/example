{
  "nbformat": 4,
  "nbformat_minor": 0,
  "metadata": {
    "colab": {
      "name": "SampleNeuralNetwork_Logic-Gate-Simulation.ipynb",
      "version": "0.3.2",
      "provenance": [],
      "collapsed_sections": [],
      "include_colab_link": true
    },
    "kernelspec": {
      "name": "python3",
      "display_name": "Python 3"
    }
  },
  "cells": [
    {
      "cell_type": "markdown",
      "metadata": {
        "id": "view-in-github",
        "colab_type": "text"
      },
      "source": [
        "[View in Colaboratory](https://colab.research.google.com/github/isaacyaf/example/blob/master/SampleNeuralNetwork_Logic_Gate_Simulation.ipynb)"
      ]
    },
    {
      "metadata": {
        "id": "A9Oh8azzsq0U",
        "colab_type": "code",
        "colab": {
          "base_uri": "https://localhost:8080/",
          "height": 350
        },
        "outputId": "782733ed-130d-439a-dc3b-5a438fa59f4a"
      },
      "cell_type": "code",
      "source": [
        "from numpy import exp, array, random, dot\n",
        "\n",
        "#GATE=> 0: AND GATE, 1: OR GATE\n",
        "gate_type=0\n",
        "\n",
        "#input_1, input_2, bias\n",
        "training_set_inputs = array([[0, 0, 1], [1, 1, 1], [1, 0, 1], [0, 1, 1]])\n",
        "if gate_type == 0: \n",
        "    #AND GATE\n",
        "    training_set_outputs = array([[0, 1, 0, 0]]).T\n",
        "    print(\"AND Gate Simulation:\\n\")\n",
        "else:\n",
        "    #OR GATE\n",
        "    training_set_outputs = array([[0, 1, 1, 1]]).T\n",
        "    print(\"OR Gate Simulation:\\n\")\n",
        "\n",
        "def sigmoid(x):\n",
        "    return 1 / (1 + exp(-x))\n",
        "\n",
        "def sigmoid_derivative(x):\n",
        "    return x * (1 - x)\n",
        "\n",
        "def square_error(y_hat,y):\n",
        "    return 1/2 * (y_hat - y)**2\n",
        "\n",
        "def square_error_derivative(y_hat,y):\n",
        "    return y-y_hat\n",
        "\n",
        "\n",
        "\n",
        "\n",
        "#init (w1, w2, W_bias)\n",
        "weights = [random.uniform(-1, 1), random.uniform(-1, 1), random.uniform(-1, 1)]\n",
        "print (\"The init weights(w_1, w_2, W_bias):\\n {0}\\n\".format(weights))\n",
        "learning_rate=0.5\n",
        "\n",
        "#non-training result\n",
        "print(\"Results before training:\")\n",
        "for input_tmp in training_set_inputs:\n",
        "    print(\"\\tGate inputs: {0}, {1} \\t Gate output: {2}\".format(\n",
        "        input_tmp[0], input_tmp[1], sigmoid(dot(input_tmp, weights))))\n",
        "\n",
        "\n",
        "for echo in range(1000):\n",
        "    #training\n",
        "    for input_tmp, output_tmp in zip(training_set_inputs, training_set_outputs):\n",
        "        #forward\n",
        "        net = dot(input_tmp, weights)\n",
        "        net_out = sigmoid(net) \n",
        "\n",
        "        #calculating_error\n",
        "        loss_tmp = square_error(output_tmp[0], net_out)\n",
        "\n",
        "        #backward\n",
        "        square_error_derivative_tmp = square_error_derivative(output_tmp[0], net_out)\n",
        "        sigmoid_derivative_tmp = sigmoid_derivative(net_out)\n",
        "        weights -= dot(input_tmp.T, square_error_derivative_tmp * sigmoid_derivative_tmp * learning_rate)\n",
        "\n",
        "print (\"\\nWeights after training:\\n{0}\\n\".format(weights))\n",
        "\n",
        "\n",
        "print(\"Results after training:\")\n",
        "for input_tmp in training_set_inputs:\n",
        "    print(\"\\tGate inputs: {0}, {1} \\t Gate output: {2}\".format(\n",
        "        input_tmp[0], input_tmp[1], sigmoid(dot(input_tmp, weights))))"
      ],
      "execution_count": 1,
      "outputs": [
        {
          "output_type": "stream",
          "text": [
            "AND Gate Simulation:\n",
            "\n",
            "The init weights(w_1, w_2, W_bias):\n",
            " [0.44425751880140907, 0.6236062946748928, -0.07588316665575578]\n",
            "\n",
            "Results before training:\n",
            "\tGate inputs: 0, 0 \t Gate output: 0.4810383063185471\n",
            "\tGate inputs: 1, 1 \t Gate output: 0.729478959623692\n",
            "\tGate inputs: 1, 0 \t Gate output: 0.591066106272778\n",
            "\tGate inputs: 0, 1 \t Gate output: 0.6336071781545356\n",
            "\n",
            "Weights after training:\n",
            "[ 4.67301277  4.67675743 -7.11311285]\n",
            "\n",
            "Results after training:\n",
            "\tGate inputs: 0, 0 \t Gate output: 0.0008136934364634757\n",
            "\tGate inputs: 1, 1 \t Gate output: 0.9034933951256664\n",
            "\tGate inputs: 1, 0 \t Gate output: 0.08016553207724261\n",
            "\tGate inputs: 0, 1 \t Gate output: 0.08044209388635086\n"
          ],
          "name": "stdout"
        }
      ]
    }
  ]
}